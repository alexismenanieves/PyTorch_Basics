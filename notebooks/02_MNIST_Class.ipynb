{
 "cells": [
  {
   "cell_type": "code",
   "execution_count": 1,
   "metadata": {},
   "outputs": [
    {
     "name": "stdout",
     "output_type": "stream",
     "text": [
      "Use mps: tensor([1.], device='mps:0')\n"
     ]
    }
   ],
   "source": [
    "# Step 0. Load libraries and custom functions\n",
    "# Torch ----------------------------------------------------------------\n",
    "import torch\n",
    "from torch import nn\n",
    "from torch.utils.data import DataLoader\n",
    "from torchvision import datasets\n",
    "from torchvision.transforms import ToTensor\n",
    "# Commons --------------------------------------------------------------\n",
    "import numpy as np\n",
    "import matplotlib.pyplot as plt\n",
    "# Call MPS as backend --------------------------------------------------\n",
    "if torch.backends.mps.is_available():\n",
    "    device = torch.device('mps')\n",
    "    x = torch.ones(1, device=device)\n",
    "    print (f'Use mps: {x}')\n",
    "else:\n",
    "    device = torch.device('cpu')\n",
    "    print (\"Use cpu\")"
   ]
  },
  {
   "cell_type": "code",
   "execution_count": 2,
   "metadata": {},
   "outputs": [],
   "source": [
    "# Step 1. Load data\n",
    "# 1.1 Create training and test datasets\n",
    "training_data = datasets.MNIST(\n",
    "    root='../data/',\n",
    "    train=True,\n",
    "    download=True,\n",
    "    transform=ToTensor()\n",
    ")\n",
    "\n",
    "test_data = datasets.MNIST(\n",
    "    root='../data',\n",
    "    train=False,\n",
    "    download=True,\n",
    "    transform=ToTensor(),\n",
    ")"
   ]
  },
  {
   "cell_type": "code",
   "execution_count": 3,
   "metadata": {},
   "outputs": [],
   "source": [
    "# 1.2 Create dataloaders\n",
    "batch_size = 64\n",
    "train_dataloader = DataLoader(dataset=training_data, batch_size=batch_size)\n",
    "test_dataloader = DataLoader(dataset=test_data, batch_size=batch_size)"
   ]
  },
  {
   "cell_type": "code",
   "execution_count": 4,
   "metadata": {},
   "outputs": [],
   "source": [
    "# 2. Create Neural Network architecture \n",
    "# 2.1 Create Neural Network class\n",
    "class NN_Mnist(nn.Module):\n",
    "    def __init__(self):\n",
    "        super().__init__()\n",
    "        self.flatten = nn.Flatten()\n",
    "        self.linear_relu_stack = nn.Sequential(\n",
    "            nn.Linear(28*28, 256),\n",
    "            nn.ReLU(),\n",
    "            nn.Dropout(0.3),\n",
    "            nn.Linear(256, 128),\n",
    "            nn.ReLU(),\n",
    "            nn.Dropout(0.2),\n",
    "            nn.Linear(128, 10)\n",
    "        )\n",
    "    \n",
    "    def forward(self, x):\n",
    "        x = self.flatten(x)\n",
    "        logits = self.linear_relu_stack(x)\n",
    "        return logits\n",
    "# 2.2 Instantiate a Neural Network object    \n",
    "model = NN_Mnist().to(device) # You have to move your model to the GPU using .to(device)"
   ]
  },
  {
   "cell_type": "code",
   "execution_count": 5,
   "metadata": {},
   "outputs": [],
   "source": [
    "# 2.3 Define loss function and optimizer\n",
    "loss_fn = nn.CrossEntropyLoss()\n",
    "optimizer = torch.optim.Adam(model.parameters(), lr=0.001)"
   ]
  },
  {
   "cell_type": "code",
   "execution_count": 6,
   "metadata": {},
   "outputs": [],
   "source": [
    "# 2.4 Create train function\n",
    "def train(dataloader, model, loss_fn, optimizer):\n",
    "    size = len(dataloader.dataset)\n",
    "    model.train()\n",
    "    for batch, (X, y) in enumerate(dataloader):\n",
    "        X, y = X.to(device), y.to(device)\n",
    "        pred = model(X)\n",
    "        loss = loss_fn(pred, y)\n",
    "        loss.backward()\n",
    "        optimizer.step()\n",
    "        optimizer.zero_grad()\n",
    "        if batch % 100 == 0:\n",
    "            loss, current = loss.item(), batch * len(X)\n",
    "            print(f'Loss: {loss:.8f}, [{(current/size)}]')"
   ]
  },
  {
   "cell_type": "code",
   "execution_count": 7,
   "metadata": {},
   "outputs": [],
   "source": [
    "# 2.5 Create test function\n",
    "def test(dataloader, model, loss_fn):\n",
    "    size = len(dataloader.dataset)\n",
    "    num_batches = len(dataloader)\n",
    "    model.eval()\n",
    "    test_loss, correct = 0, 0\n",
    "    with torch.no_grad():\n",
    "        for X, y in dataloader:\n",
    "            X, y = X.to(device), y.to(device)\n",
    "            pred = model(X)\n",
    "            test_loss += loss_fn(pred, y).item()\n",
    "            correct += (pred.argmax(1) == y).type(torch.float).sum().item()\n",
    "    test_loss /= num_batches\n",
    "    correct /= size\n",
    "    print(f'Accuracy: {correct*100:.3f}, average loss: {test_loss:>.8f}')"
   ]
  },
  {
   "cell_type": "code",
   "execution_count": 8,
   "metadata": {},
   "outputs": [
    {
     "name": "stdout",
     "output_type": "stream",
     "text": [
      "Epoch: 1\n",
      "Loss: 2.31038260, [0.0]\n",
      "Loss: 0.33575094, [0.10666666666666667]\n",
      "Loss: 0.26754546, [0.21333333333333335]\n",
      "Loss: 0.29628628, [0.32]\n",
      "Loss: 0.14645974, [0.4266666666666667]\n",
      "Loss: 0.38989389, [0.5333333333333333]\n",
      "Loss: 0.17012630, [0.64]\n",
      "Loss: 0.32251811, [0.7466666666666667]\n",
      "Loss: 0.26513380, [0.8533333333333334]\n",
      "Loss: 0.25867477, [0.96]\n",
      "Accuracy: 95.170, average loss: 0.15757724\n",
      "Epoch: 2\n",
      "Loss: 0.13301566, [0.0]\n",
      "Loss: 0.08845728, [0.10666666666666667]\n",
      "Loss: 0.12915169, [0.21333333333333335]\n",
      "Loss: 0.15203749, [0.32]\n",
      "Loss: 0.12301251, [0.4266666666666667]\n",
      "Loss: 0.18013582, [0.5333333333333333]\n",
      "Loss: 0.08382467, [0.64]\n",
      "Loss: 0.37231672, [0.7466666666666667]\n",
      "Loss: 0.20050558, [0.8533333333333334]\n",
      "Loss: 0.17748952, [0.96]\n",
      "Accuracy: 96.850, average loss: 0.10011967\n",
      "Epoch: 3\n",
      "Loss: 0.07846770, [0.0]\n",
      "Loss: 0.14045615, [0.10666666666666667]\n",
      "Loss: 0.14953044, [0.21333333333333335]\n",
      "Loss: 0.11859259, [0.32]\n",
      "Loss: 0.07067838, [0.4266666666666667]\n",
      "Loss: 0.18378094, [0.5333333333333333]\n",
      "Loss: 0.08529200, [0.64]\n",
      "Loss: 0.22967499, [0.7466666666666667]\n",
      "Loss: 0.16727455, [0.8533333333333334]\n",
      "Loss: 0.13695739, [0.96]\n",
      "Accuracy: 97.130, average loss: 0.09327289\n",
      "Epoch: 4\n",
      "Loss: 0.10628788, [0.0]\n",
      "Loss: 0.13377042, [0.10666666666666667]\n",
      "Loss: 0.12559639, [0.21333333333333335]\n",
      "Loss: 0.15172756, [0.32]\n",
      "Loss: 0.07040110, [0.4266666666666667]\n",
      "Loss: 0.12649949, [0.5333333333333333]\n",
      "Loss: 0.04726190, [0.64]\n",
      "Loss: 0.10847250, [0.7466666666666667]\n",
      "Loss: 0.14340550, [0.8533333333333334]\n",
      "Loss: 0.11494938, [0.96]\n",
      "Accuracy: 97.470, average loss: 0.08339484\n",
      "Epoch: 5\n",
      "Loss: 0.07027714, [0.0]\n",
      "Loss: 0.07329036, [0.10666666666666667]\n",
      "Loss: 0.04694415, [0.21333333333333335]\n",
      "Loss: 0.10534990, [0.32]\n",
      "Loss: 0.11947555, [0.4266666666666667]\n",
      "Loss: 0.05000096, [0.5333333333333333]\n",
      "Loss: 0.03796124, [0.64]\n",
      "Loss: 0.10457030, [0.7466666666666667]\n",
      "Loss: 0.19111298, [0.8533333333333334]\n",
      "Loss: 0.15113020, [0.96]\n",
      "Accuracy: 97.620, average loss: 0.07778030\n",
      "Epoch: 6\n",
      "Loss: 0.05167317, [0.0]\n",
      "Loss: 0.07015419, [0.10666666666666667]\n",
      "Loss: 0.05624711, [0.21333333333333335]\n",
      "Loss: 0.04054865, [0.32]\n",
      "Loss: 0.02356146, [0.4266666666666667]\n",
      "Loss: 0.12597319, [0.5333333333333333]\n",
      "Loss: 0.09845942, [0.64]\n",
      "Loss: 0.08348218, [0.7466666666666667]\n",
      "Loss: 0.20927703, [0.8533333333333334]\n",
      "Loss: 0.05659468, [0.96]\n",
      "Accuracy: 97.870, average loss: 0.07430781\n",
      "Epoch: 7\n",
      "Loss: 0.05338706, [0.0]\n",
      "Loss: 0.09434237, [0.10666666666666667]\n",
      "Loss: 0.07744974, [0.21333333333333335]\n",
      "Loss: 0.10338914, [0.32]\n",
      "Loss: 0.06608780, [0.4266666666666667]\n",
      "Loss: 0.02380990, [0.5333333333333333]\n",
      "Loss: 0.05555283, [0.64]\n",
      "Loss: 0.08256992, [0.7466666666666667]\n",
      "Loss: 0.13978152, [0.8533333333333334]\n",
      "Loss: 0.07344390, [0.96]\n",
      "Accuracy: 97.330, average loss: 0.08699182\n",
      "Epoch: 8\n",
      "Loss: 0.09652243, [0.0]\n",
      "Loss: 0.03778159, [0.10666666666666667]\n",
      "Loss: 0.08304620, [0.21333333333333335]\n",
      "Loss: 0.04579299, [0.32]\n",
      "Loss: 0.08069486, [0.4266666666666667]\n",
      "Loss: 0.01999807, [0.5333333333333333]\n",
      "Loss: 0.02602715, [0.64]\n",
      "Loss: 0.07118024, [0.7466666666666667]\n",
      "Loss: 0.10312752, [0.8533333333333334]\n",
      "Loss: 0.20418149, [0.96]\n",
      "Accuracy: 98.030, average loss: 0.06763621\n",
      "Epoch: 9\n",
      "Loss: 0.07389738, [0.0]\n",
      "Loss: 0.01153389, [0.10666666666666667]\n",
      "Loss: 0.09227673, [0.21333333333333335]\n",
      "Loss: 0.01886216, [0.32]\n",
      "Loss: 0.02240194, [0.4266666666666667]\n",
      "Loss: 0.04883515, [0.5333333333333333]\n",
      "Loss: 0.01292040, [0.64]\n",
      "Loss: 0.06752579, [0.7466666666666667]\n",
      "Loss: 0.18113282, [0.8533333333333334]\n",
      "Loss: 0.05504591, [0.96]\n",
      "Accuracy: 98.140, average loss: 0.06987682\n",
      "Epoch: 10\n",
      "Loss: 0.02377292, [0.0]\n",
      "Loss: 0.04096357, [0.10666666666666667]\n",
      "Loss: 0.02935262, [0.21333333333333335]\n",
      "Loss: 0.07672851, [0.32]\n",
      "Loss: 0.01238299, [0.4266666666666667]\n",
      "Loss: 0.03201326, [0.5333333333333333]\n",
      "Loss: 0.00472684, [0.64]\n",
      "Loss: 0.05180050, [0.7466666666666667]\n",
      "Loss: 0.14369296, [0.8533333333333334]\n",
      "Loss: 0.04020934, [0.96]\n",
      "Accuracy: 97.940, average loss: 0.07384003\n",
      "Done!\n"
     ]
    }
   ],
   "source": [
    "# 3. Execute neural network\n",
    "epochs = 10\n",
    "for t in range(epochs):\n",
    "    print(f'Epoch: {t+1}')\n",
    "    train(train_dataloader, model, loss_fn, optimizer)\n",
    "    test(test_dataloader, model, loss_fn)\n",
    "print('Done!')\n"
   ]
  },
  {
   "cell_type": "code",
   "execution_count": 13,
   "metadata": {},
   "outputs": [],
   "source": [
    "class SubModel(nn.Module):\n",
    "    def __init__(self):\n",
    "        super().__init__()\n",
    "        self.W1 = nn.Parameter(torch.randn(1, dtype=torch.float))\n",
    "        self.W2 = nn.Parameter(torch.randn(1, dtype=torch.float))\n",
    "    \n",
    "class MyModel(nn.Module):\n",
    "    def __init__(self):\n",
    "        super().__init__()\n",
    "        self.linear = nn.Linear(1,1, bias=False)\n",
    "        self.sub = SubModel()"
   ]
  },
  {
   "cell_type": "code",
   "execution_count": 15,
   "metadata": {},
   "outputs": [],
   "source": [
    "model = MyModel()"
   ]
  },
  {
   "cell_type": "code",
   "execution_count": 20,
   "metadata": {},
   "outputs": [],
   "source": [
    "def count_parameters(model): \n",
    "    return sum(p.numel() for p in model.parameters() if p.requires_grad)"
   ]
  },
  {
   "cell_type": "code",
   "execution_count": 23,
   "metadata": {},
   "outputs": [
    {
     "name": "stdout",
     "output_type": "stream",
     "text": [
      "torch.Size([3])\n"
     ]
    }
   ],
   "source": [
    "print(torch.tensor([1,2,3]).size())"
   ]
  },
  {
   "cell_type": "code",
   "execution_count": 24,
   "metadata": {},
   "outputs": [
    {
     "name": "stdout",
     "output_type": "stream",
     "text": [
      "tensor([[ 0.6346,  1.7491, -0.9554]]) : tensor([[-0.3493,  0.4937,  0.2850],\n",
      "        [ 1.1192,  2.6986,  0.1001],\n",
      "        [-1.8762,  1.6090,  0.9161]]) : tensor([[ 0.0515],\n",
      "        [ 1.1498],\n",
      "        [-0.7431]]) : tensor([[-0.8660, -0.9546,  1.2260]]) : tensor([[-0.0506]])\n"
     ]
    }
   ],
   "source": [
    "features = torch.randn((1,3))\n",
    "W1 = torch.randn(features.shape[1],3)\n",
    "W2 = torch.randn(3,1)\n",
    "B1 = torch.randn((1,3))\n",
    "B2 = torch.randn((1,1))\n",
    "print(f'{features} : {W1} : {W2} : {B1} : {B2}')"
   ]
  },
  {
   "cell_type": "code",
   "execution_count": 26,
   "metadata": {},
   "outputs": [
    {
     "data": {
      "text/plain": [
       "torch.Size([1, 3])"
      ]
     },
     "execution_count": 26,
     "metadata": {},
     "output_type": "execute_result"
    }
   ],
   "source": [
    "features.shape"
   ]
  },
  {
   "cell_type": "code",
   "execution_count": 28,
   "metadata": {},
   "outputs": [
    {
     "data": {
      "text/plain": [
       "tensor([[3.1887]])"
      ]
     },
     "execution_count": 28,
     "metadata": {},
     "output_type": "execute_result"
    }
   ],
   "source": [
    "output_1 = torch.mm(features, W1 + 1) + B1\n",
    "torch.mm(output_1, W2)"
   ]
  },
  {
   "cell_type": "code",
   "execution_count": 29,
   "metadata": {},
   "outputs": [],
   "source": [
    "features =  torch.randn((2,6))\n",
    "weights = torch.randn((2,6))"
   ]
  },
  {
   "cell_type": "code",
   "execution_count": 30,
   "metadata": {},
   "outputs": [
    {
     "data": {
      "text/plain": [
       "tensor([[ 1.4026,  0.5928],\n",
       "        [-3.7924,  1.4471]])"
      ]
     },
     "execution_count": 30,
     "metadata": {},
     "output_type": "execute_result"
    }
   ],
   "source": [
    "torch.mm(features, weights.reshape(6,2))"
   ]
  },
  {
   "cell_type": "code",
   "execution_count": 31,
   "metadata": {},
   "outputs": [
    {
     "data": {
      "text/plain": [
       "tensor([[ 1.4026,  0.5928],\n",
       "        [-3.7924,  1.4471]])"
      ]
     },
     "execution_count": 31,
     "metadata": {},
     "output_type": "execute_result"
    }
   ],
   "source": [
    "torch.mm(features, weights.view(6,2))"
   ]
  },
  {
   "cell_type": "code",
   "execution_count": 32,
   "metadata": {},
   "outputs": [
    {
     "ename": "RuntimeError",
     "evalue": "mat1 and mat2 shapes cannot be multiplied (2x6 and 2x6)",
     "output_type": "error",
     "traceback": [
      "\u001b[0;31m---------------------------------------------------------------------------\u001b[0m",
      "\u001b[0;31mRuntimeError\u001b[0m                              Traceback (most recent call last)",
      "Cell \u001b[0;32mIn[32], line 1\u001b[0m\n\u001b[0;32m----> 1\u001b[0m \u001b[43mtorch\u001b[49m\u001b[38;5;241;43m.\u001b[39;49m\u001b[43mmm\u001b[49m\u001b[43m(\u001b[49m\u001b[43mfeatures\u001b[49m\u001b[43m,\u001b[49m\u001b[43mweights\u001b[49m\u001b[43m)\u001b[49m\n",
      "\u001b[0;31mRuntimeError\u001b[0m: mat1 and mat2 shapes cannot be multiplied (2x6 and 2x6)"
     ]
    }
   ],
   "source": [
    "torch.mm(features,weights)"
   ]
  }
 ],
 "metadata": {
  "kernelspec": {
   "display_name": ".venv",
   "language": "python",
   "name": "python3"
  },
  "language_info": {
   "codemirror_mode": {
    "name": "ipython",
    "version": 3
   },
   "file_extension": ".py",
   "mimetype": "text/x-python",
   "name": "python",
   "nbconvert_exporter": "python",
   "pygments_lexer": "ipython3",
   "version": "3.10.11"
  }
 },
 "nbformat": 4,
 "nbformat_minor": 2
}
